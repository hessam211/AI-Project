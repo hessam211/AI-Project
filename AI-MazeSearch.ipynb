{
 "cells": [
  {
   "cell_type": "markdown",
   "source": [
    "So We first Initialize our maze with random walls. our maze size is Dynamic. We can also use a file to read our maze."
   ],
   "metadata": {
    "collapsed": false
   }
  },
  {
   "cell_type": "code",
   "execution_count": 11,
   "outputs": [],
   "source": [
    "\n",
    "# this script is written to create a bunch of maze maps for evaluating the search algorithms:\n",
    "import numpy as np\n",
    "import matplotlib.pyplot as  plot\n",
    "\n"
   ],
   "metadata": {
    "collapsed": false,
    "pycharm": {
     "name": "#%%\n",
     "is_executing": false
    }
   }
  },
  {
   "cell_type": "code",
   "execution_count": 12,
   "outputs": [
    {
     "name": "stdout",
     "text": [
      "[[1 1 1 1 1 1 1 1 1 1]\n [1 0 0 1 0 0 0 0 0 1]\n [1 0 0 0 0 0 0 1 0 1]\n [1 0 0 3 0 0 0 0 0 1]\n [1 0 0 0 0 0 0 0 0 1]\n [1 0 0 0 0 0 0 0 0 1]\n [1 0 0 0 0 1 0 0 0 1]\n [1 0 0 0 0 1 1 0 1 1]\n [1 1 1 1 2 0 1 1 1 1]\n [1 1 1 1 1 1 1 1 1 1]]\n"
     ],
     "output_type": "stream"
    }
   ],
   "source": [
    "# embedding :\n",
    "empty_cell = 0\n",
    "wall = 1\n",
    "start_cell = 2\n",
    "goal_cell = 3\n",
    "# constants:\n",
    "width = 8# width of the map\n",
    "height = 8 # height of the map\n",
    "wall_ratio = 0.2 # ratio of walls in the map\n",
    "cluster_attraction_weight = 6\n",
    "\n",
    "#creating an empty map to start with:\n",
    "map = np.full(shape=(height+2,width+2),fill_value=empty_cell)\n",
    "hit_map = np.full(shape=(height+2,width+2),fill_value=1) # for deciding where to put the next wall\n",
    "map[0] = wall\n",
    "map[-1] = wall\n",
    "hit_map[0] = 0\n",
    "hit_map[-1] = 0\n",
    "for i in range(1,height+1) :\n",
    "    map[i][0] = wall\n",
    "    map[i][-1] = wall\n",
    "    hit_map[i][0] = 0\n",
    "    hit_map[i][-1] = 0\n",
    "num_walls = np.random.binomial(n=height*width,p=wall_ratio)\n",
    "for i in range(num_walls):\n",
    "    next_wall_loc = np.random.choice((height+2)*(width+2),p=hit_map.flatten()/sum(hit_map.flatten()))\n",
    "    x_next_wall = next_wall_loc//(width+2)\n",
    "    y_next_wall = next_wall_loc%(width+2)\n",
    "    map[x_next_wall][y_next_wall] = wall\n",
    "    hit_map[x_next_wall][y_next_wall] = 0\n",
    "\n",
    "    if hit_map[x_next_wall-1][y_next_wall] == 1:\n",
    "        hit_map[x_next_wall - 1][y_next_wall] = cluster_attraction_weight\n",
    "\n",
    "    if hit_map[x_next_wall+1][y_next_wall] == 1:\n",
    "        hit_map[x_next_wall + 1][y_next_wall] = cluster_attraction_weight\n",
    "\n",
    "    if hit_map[x_next_wall][y_next_wall-1] == 1:\n",
    "        hit_map[x_next_wall][y_next_wall-1] = cluster_attraction_weight\n",
    "\n",
    "    if hit_map[x_next_wall][y_next_wall+1] == 1:\n",
    "        hit_map[x_next_wall][y_next_wall+1] = cluster_attraction_weight\n",
    "\n",
    "# now we only need to add start and goal cells:\n",
    "empty_cells = (hit_map > 0).flatten()\n",
    "empty_cells =empty_cells / sum(empty_cells)\n",
    "start_loc,goal_loc = np.random.choice((height + 2) * (width + 2), p=empty_cells,size=2,replace=False)\n",
    "x_start = start_loc // (width + 2)\n",
    "y_start = start_loc % (width + 2)\n",
    "x_goal = goal_loc // (width + 2)\n",
    "y_goal = goal_loc % (width + 2)\n",
    "\n",
    "map[x_start][y_start] = start_cell\n",
    "map[x_goal][y_goal] = goal_cell\n",
    "# saving the map in numpy format:\n",
    "np.save(\"random_map.npy\",map)\n",
    "# and also in a text file :\n",
    "fp = open(\"random_map.txt\",'w')\n",
    "fp.write(np.array2string(map))\n",
    "print(map)\n"
   ],
   "metadata": {
    "collapsed": false,
    "pycharm": {
     "name": "#%%\n",
     "is_executing": false
    }
   }
  },
  {
   "cell_type": "markdown",
   "source": [
    "if We want to initalize our maze with an existing file we will use this cell"
   ],
   "metadata": {
    "collapsed": false,
    "pycharm": {
     "name": "#%% md\n"
    }
   }
  },
  {
   "cell_type": "code",
   "execution_count": 13,
   "outputs": [
    {
     "name": "stdout",
     "text": [
      "[[1 1 1 1 1 1 1 1 1 1]\n [1 0 0 1 0 0 0 0 0 1]\n [1 0 0 0 0 0 0 1 0 1]\n [1 0 0 3 0 0 0 0 0 1]\n [1 0 0 0 0 0 0 0 0 1]\n [1 0 0 0 0 0 0 0 0 1]\n [1 0 0 0 0 1 0 0 0 1]\n [1 0 0 0 0 1 1 0 1 1]\n [1 1 1 1 2 0 1 1 1 1]\n [1 1 1 1 1 1 1 1 1 1]]\n"
     ],
     "output_type": "stream"
    }
   ],
   "source": [
    "map = np.load('random_map.npy')\n",
    "print(map)"
   ],
   "metadata": {
    "collapsed": false,
    "pycharm": {
     "name": "#%% \n",
     "is_executing": false
    }
   }
  },
  {
   "cell_type": "markdown",
   "source": [
    "So we now that we had initialize our maze we go for finding a path with dfs. we will also write how many nodes we actually visited to reach this goal.\n",
    "\n"
   ],
   "metadata": {
    "collapsed": false,
    "pycharm": {
     "name": "#%% md\n"
    }
   }
  },
  {
   "cell_type": "code",
   "execution_count": 14,
   "outputs": [],
   "source": [
    "def valid(x):\n",
    "    if x == 1 or x==8:\n",
    "        return False\n",
    "    else:\n",
    "        return True\n",
    "def isGoal(x):\n",
    "    if x == 3:\n",
    "        return True\n",
    "    else:\n",
    "        return False\n"
   ],
   "metadata": {
    "collapsed": false,
    "pycharm": {
     "name": "#%%\n",
     "is_executing": false
    }
   }
  },
  {
   "cell_type": "code",
   "execution_count": 15,
   "outputs": [
    {
     "name": "stdout",
     "text": [
      "[[1 1 1 1 1 1 1 1 1 1]\n [1 0 0 1 0 0 0 0 0 1]\n [1 0 0 0 0 0 0 1 0 1]\n [1 0 8 3 0 0 0 0 0 1]\n [1 8 8 8 8 8 8 8 8 1]\n [1 8 8 8 8 8 8 8 8 1]\n [1 8 8 8 8 1 8 8 8 1]\n [1 8 8 8 8 1 1 8 1 1]\n [1 1 1 1 2 8 1 1 1 1]\n [1 1 1 1 1 1 1 1 1 1]]\nPath is:  [{8, 4}, {8, 5}, {4, 7}, {3, 7}, {2, 7}, {1, 7}, {1, 6}, {2, 6}, {3, 6}, {4, 6}, {4, 5}, {5}, {5, 6}, {5, 7}, {8, 5}, {8, 6}, {6, 7}, {7}, {6}, {8, 4}, {4, 7}, {4, 6}, {4, 5}, {4}, {3, 4}, {3, 5}, {2, 5}, {1, 5}, {1, 4}, {2, 4}, {2, 3}, {3}]\nNumber of Nodes Visited =  32\n"
     ],
     "output_type": "stream"
    }
   ],
   "source": [
    "m = np.copy(map)\n",
    "l = []\n",
    "flag = True\n",
    "def DFS(x,y):\n",
    "    global flag\n",
    "    l.append({x,y})\n",
    "    if m[x][y]==3:\n",
    "        flag = False\n",
    "        return\n",
    "    m[x][y] = 8\n",
    " \n",
    "    if valid(m[x][y+1]) and flag:\n",
    "        DFS(x,y+1)\n",
    "    \n",
    "    if valid(m[x+1][y])and flag:\n",
    "        DFS(x+1,y)\n",
    "    \n",
    "    if valid(m[x][y-1])and flag:\n",
    "        DFS(x,y-1)\n",
    "    \n",
    "    if valid(m[x-1][y])and flag:\n",
    "        DFS(x-1,y)\n",
    "    \n",
    "    return\n",
    "DFS(x_start,y_start)\n",
    "m[x_start][y_start]=2\n",
    "print(m)\n",
    "print(\"Path is: \",l)\n",
    "print(\"Number of Nodes Visited = \",len(l))"
   ],
   "metadata": {
    "collapsed": false,
    "pycharm": {
     "name": "#%%\n",
     "is_executing": false
    }
   }
  },
  {
   "cell_type": "markdown",
   "source": [
    "So this the Maze Solving using BFS "
   ],
   "metadata": {
    "collapsed": false,
    "pycharm": {
     "name": "#%% md\n",
     "is_executing": false
    }
   }
  },
  {
   "cell_type": "code",
   "execution_count": 16,
   "outputs": [
    {
     "name": "stdout",
     "text": [
      "[[1 1 1 1 1 1 1 1 1 1]\n [1 0 0 1 0 0 0 0 0 1]\n [1 0 0 0 0 0 0 1 0 1]\n [1 0 0 3 8 0 0 0 0 1]\n [1 0 8 8 8 8 0 0 0 1]\n [1 8 8 8 8 8 8 0 0 1]\n [1 8 8 8 8 1 0 0 0 1]\n [1 8 8 8 8 1 1 0 1 1]\n [1 1 1 1 2 8 1 1 1 1]\n [1 1 1 1 1 1 1 1 1 1]]\nPath is:  [{8, 4}, {8, 5}, {4, 7}, {8, 4}, {3, 7}, {4, 6}, {2, 7}, {3, 6}, {4, 5}, {1, 7}, {2, 6}, {3, 5}, {5}, {4}, {1, 6}, {2, 5}, {3, 4}, {5, 6}, {4, 5}, {3, 4}, {1, 5}, {2, 4}, {3}]\nNumber of Nodes Visited =  23\n"
     ],
     "output_type": "stream"
    }
   ],
   "source": [
    "bm = np.copy(map)\n",
    "l = []\n",
    "q = []\n",
    "flag = True\n",
    "def BFS_Check(x,y):\n",
    "    global bm\n",
    "    global flag\n",
    " \n",
    "    if valid(bm[x][y+1]) and flag:\n",
    "        l.append({x,y+1})        \n",
    "        if isGoal(bm[x][y+1]):\n",
    "            flag = False\n",
    "            return\n",
    "        else:\n",
    "            q.append([x,y+1])\n",
    "            bm[x][y+1]=8\n",
    "    \n",
    "    if valid(bm[x+1][y])and flag:\n",
    "        l.append({x+1,y})\n",
    "        if isGoal(bm[x+1][y]):\n",
    "            flag = False\n",
    "            return\n",
    "        else:\n",
    "            q.append([x+1,y])\n",
    "            bm[x+1][y]=8\n",
    "    \n",
    "    if valid(bm[x][y-1])and flag:\n",
    "        l.append({x,y-1})        \n",
    "        if isGoal(bm[x][y-1]):\n",
    "            flag = False\n",
    "            return\n",
    "        else:\n",
    "            q.append([x,y-1])\n",
    "            bm[x][y-1]=8\n",
    "    \n",
    "    if valid(bm[x-1][y])and flag:\n",
    "        l.append({x-1,y})\n",
    "        if isGoal(bm[x-1][y]):\n",
    "            flag = False\n",
    "            return\n",
    "        else:\n",
    "            q.append([x-1,y])\n",
    "            bm[x-1][y]=8\n",
    "    \n",
    "    return\n",
    "def BFS(x,y):\n",
    "    global flag\n",
    "    q.append([x,y])\n",
    "    l.append({x,y})\n",
    "    bm[x][y]=0\n",
    "    while len(q) != 0 and flag:\n",
    "        t = q.pop(0)\n",
    "        BFS_Check(t[0],t[1])\n",
    "        \n",
    "BFS(x_start,y_start)\n",
    "bm[x_start][y_start]=2\n",
    "print(bm)\n",
    "\n",
    "print(\"Path is: \",l)\n",
    "print(\"Number of Nodes Visited = \",len(l))"
   ],
   "metadata": {
    "collapsed": false,
    "pycharm": {
     "name": "#%%\n",
     "is_executing": false
    }
   }
  },
  {
   "cell_type": "markdown",
   "source": [
    "We also do the search with IDS the only difference for IDS and DFS is a depth limit"
   ],
   "metadata": {
    "collapsed": false,
    "pycharm": {
     "name": "#%% md\n",
     "is_executing": false
    }
   }
  },
  {
   "cell_type": "code",
   "execution_count": 17,
   "outputs": [
    {
     "name": "stdout",
     "text": [
      "[[1 1 1 1 1 1 1 1 1 1]\n [1 0 0 1 0 0 0 0 0 1]\n [1 0 0 0 0 0 0 1 0 1]\n [1 0 0 3 0 0 0 0 0 1]\n [1 0 0 0 8 0 0 0 0 1]\n [1 8 0 8 8 8 0 0 0 1]\n [1 8 8 8 8 1 0 0 0 1]\n [1 8 8 8 8 1 1 0 1 1]\n [1 1 1 1 2 8 1 1 1 1]\n [1 1 1 1 1 1 1 1 1 1]]\nPath is:  [{8, 4}, {8, 5}, {4, 7}, {3, 7}, {2, 7}, {1, 7}, {1, 6}, {2, 6}, {1, 5}, {3, 6}, {4, 6}, {4, 5}, {5}, {3, 5}, {4}]\nNumber of Nodes Visited =  15\n"
     ],
     "output_type": "stream"
    }
   ],
   "source": [
    "m = np.copy(map)\n",
    "l = []\n",
    "flag = True\n",
    "depth_limit = 6\n",
    "def IDFS(x,y,d):\n",
    "    l.append({x,y})\n",
    "    global flag\n",
    "    global depth_limit\n",
    "    if m[x][y]==3:\n",
    "        flag = False\n",
    "        return\n",
    "    m[x][y] = 8\n",
    "    if d==depth_limit:\n",
    "        return\n",
    "    if valid(m[x][y+1]) and flag:\n",
    "        IDFS(x,y+1,d+1)\n",
    "    \n",
    "    if valid(m[x+1][y])and flag:\n",
    "        IDFS(x+1,y,d+1)\n",
    "    \n",
    "    if valid(m[x][y-1])and flag:\n",
    "        IDFS(x,y-1,d+1)\n",
    "    \n",
    "    if valid(m[x-1][y])and flag:\n",
    "        IDFS(x-1,y,d+1)\n",
    "    \n",
    "    return\n",
    "IDFS(x_start,y_start,0)\n",
    "m[x_start][y_start]=2\n",
    "print(m)\n",
    "print(\"Path is: \",l)\n",
    "print(\"Number of Nodes Visited = \",len(l))"
   ],
   "metadata": {
    "collapsed": false,
    "pycharm": {
     "name": "#%%\n",
     "is_executing": false
    }
   }
  },
  {
   "cell_type": "markdown",
   "source": [
    "Now we go for A*\n",
    "Note : For heuristic function we will calculate the distance our location to goal location. ((x_goal-x)^2 + (y_goal-y)^2))^0.5 so we always want to go straight to the goal."
   ],
   "metadata": {
    "collapsed": false,
    "pycharm": {
     "name": "#%% md\n"
    }
   }
  },
  {
   "cell_type": "code",
   "execution_count": 18,
   "outputs": [
    {
     "name": "stdout",
     "text": [
      "[[1 1 1 1 1 1 1 1 1 1]\n [1 0 0 1 0 0 0 0 0 1]\n [1 0 0 0 0 0 0 1 0 1]\n [1 0 0 3 8 8 0 0 0 1]\n [1 0 0 8 8 8 0 0 0 1]\n [1 0 0 8 8 8 0 0 0 1]\n [1 0 8 8 8 1 0 0 0 1]\n [1 0 8 8 8 1 1 0 1 1]\n [1 1 1 1 2 8 1 1 1 1]\n [1 1 1 1 1 1 1 1 1 1]]\n[[10000 10000 10000 10000 10000 10000 10000 10000 10000 10000]\n [10000 10000 10000 10000 10000 10000 10000 10000 10000 10000]\n [10000 10000 10000 10000 10000 10000 10000 10000 10000 10000]\n [10000 10000 10000    16    16    18 10000 10000 10000 10000]\n [10000 10000 10000    16    15    17 10000 10000 10000 10000]\n [10000 10000 10000    16    14    16 10000 10000 10000 10000]\n [10000 10000    18    15    12 10000 10000 10000 10000 10000]\n [10000 10000    17    13     9 10000 10000 10000 10000 10000]\n [10000 10000 10000 10000     5    10 10000 10000 10000 10000]\n [10000 10000 10000 10000 10000 10000 10000 10000 10000 10000]]\nPath is:  [{8, 4}, {8, 5}, {4, 7}, {3, 7}, {4, 6}, {3, 6}, {4, 5}, {2, 7}, {5}, {3, 5}, {4}, {4, 5}, {3, 4}, {3, 4}, {2, 6}, {3, 5}, {3}]\nNumber of Nodes Visited =  17\n"
     ],
     "output_type": "stream"
    }
   ],
   "source": [
    "import math\n",
    "fmap = np.full(shape=(height+2,width+2),fill_value=10000)\n",
    "am = np.copy(map)\n",
    "l = []\n",
    "q = []\n",
    "flag = True\n",
    "\n",
    "def minValue(b):\n",
    "    min = 10000\n",
    "    for i in b:\n",
    "        if fmap[i[0],i[1]] <= min:\n",
    "            min = fmap[i[0],i[1]]\n",
    "            ind = b.index(i)\n",
    "    return ind\n",
    "\n",
    "def h(x,y):\n",
    "    a = (x_goal - x) * (x_goal - x)\n",
    "    b = (y_goal - y) * (y_goal - y)\n",
    "    return math.sqrt(a+b)\n",
    "\n",
    "def aStar_Check(x,y,cost):\n",
    "    global flag\n",
    " \n",
    "    if valid(am[x][y+1]) and flag:\n",
    "        l.append({x,y+1})\n",
    "        g = cost + h(x,y+1)\n",
    "        fmap[x][y+1] = min(fmap[x][y+1], g)\n",
    "        if isGoal(am[x][y+1]):\n",
    "            flag = False\n",
    "            return\n",
    "        else:\n",
    "            q.append([x,y+1])\n",
    "            am[x][y+1]=8\n",
    "    \n",
    "    if valid(am[x+1][y])and flag:\n",
    "        l.append({x+1,y})        \n",
    "        g = cost + h(x+1,y)\n",
    "        fmap[x+1][y] = min(fmap[x+1][y], g)\n",
    "        if isGoal(am[x+1][y]):\n",
    "            flag = False\n",
    "            return\n",
    "        else:\n",
    "            q.append([x+1,y])\n",
    "            am[x+1][y]=8\n",
    "    \n",
    "    if valid(am[x][y-1])and flag:\n",
    "        l.append({x,y-1})     \n",
    "        g = cost + h(x,y-1)\n",
    "        fmap[x][y-1] = min(fmap[x][y-1], g)        \n",
    "        if isGoal(am[x][y-1]):\n",
    "            flag = False\n",
    "            return\n",
    "        else:\n",
    "            q.append([x,y-1])\n",
    "            am[x][y-1]=8\n",
    "    \n",
    "    if valid(am[x-1][y])and flag:\n",
    "        l.append({x-1,y})     \n",
    "        g = cost + h(x-1,y)\n",
    "        fmap[x-1][y] = min(fmap[x-1][y], g)   \n",
    "        if isGoal(am[x-1][y]):\n",
    "            flag = False\n",
    "            return\n",
    "        else:\n",
    "            q.append([x-1,y])\n",
    "            am[x-1][y]=8\n",
    "    \n",
    "    return\n",
    "def aStar(x,y):\n",
    "    global flag\n",
    "    q.append([x,y])\n",
    "    l.append({x,y})\n",
    "    fmap[x][y] = h(x,y)\n",
    "    am[x][y] = 8\n",
    "    while len(q) != 0 and flag:\n",
    "        t = q.pop(minValue(q))\n",
    "        aStar_Check(t[0],t[1],fmap[t[0]][t[1]])\n",
    "        \n",
    "aStar(x_start,y_start)\n",
    "am[x_start][y_start]=2\n",
    "print(am)\n",
    "print(fmap)\n",
    "\n",
    "print(\"Path is: \",l)\n",
    "print(\"Number of Nodes Visited = \",len(l))"
   ],
   "metadata": {
    "collapsed": false,
    "pycharm": {
     "name": "#%%\n",
     "is_executing": false
    }
   }
  },
  {
   "cell_type": "markdown",
   "source": [
    "For RBFS:"
   ],
   "metadata": {
    "collapsed": false,
    "pycharm": {
     "name": "#%% md\n"
    }
   }
  },
  {
   "cell_type": "code",
   "execution_count": 20,
   "outputs": [
    {
     "name": "stdout",
     "text": [
      "q after update:  [[8, 5]]\nq after update:  [[8, 5], [7, 4]]\nmin, secmin : [7, 4] [8, 5]\n[[10000 10000 10000 10000 10000 10000 10000 10000 10000 10000]\n [10000 10000 10000 10000 10000 10000 10000 10000 10000 10000]\n [10000 10000 10000 10000 10000 10000 10000 10000 10000 10000]\n [10000 10000 10000 10000 10000 10000 10000 10000 10000 10000]\n [10000 10000 10000 10000 10000 10000 10000 10000 10000 10000]\n [10000 10000 10000 10000 10000 10000 10000 10000 10000 10000]\n [10000 10000 10000 10000 10000 10000 10000 10000 10000 10000]\n [10000 10000 10000 10000     9 10000 10000 10000 10000 10000]\n [10000 10000 10000 10000     5    10 10000 10000 10000 10000]\n [10000 10000 10000 10000 10000 10000 10000 10000 10000 10000]]\n[[1 1 1 1 1 1 1 1 1 1]\n [1 0 0 1 0 0 0 0 0 1]\n [1 0 0 0 0 0 0 1 0 1]\n [1 0 0 3 0 0 0 0 0 1]\n [1 0 0 0 0 0 0 0 0 1]\n [1 0 0 0 0 0 0 0 0 1]\n [1 0 0 0 0 1 0 0 0 1]\n [1 0 0 0 8 1 1 0 1 1]\n [1 1 1 1 8 8 1 1 1 1]\n [1 1 1 1 1 1 1 1 1 1]]\nparents : [] []\n[[10000 10000 10000 10000 10000 10000 10000 10000 10000 10000]\n [10000 10000 10000 10000 10000 10000 10000 10000 10000 10000]\n [10000 10000 10000 10000 10000 10000 10000 10000 10000 10000]\n [10000 10000 10000 10000 10000 10000 10000 10000 10000 10000]\n [10000 10000 10000 10000 10000 10000 10000 10000 10000 10000]\n [10000 10000 10000 10000 10000 10000 10000 10000 10000 10000]\n [10000 10000 10000 10000 10000 10000 10000 10000 10000 10000]\n [10000 10000 10000 10000     9 10000 10000 10000 10000 10000]\n [10000 10000 10000 10000     5    10 10000 10000 10000 10000]\n [10000 10000 10000 10000 10000 10000 10000 10000 10000 10000]]\n[[1 1 1 1 1 1 1 1 1 1]\n [1 0 0 1 0 0 0 0 0 1]\n [1 0 0 0 0 0 0 1 0 1]\n [1 0 0 3 0 0 0 0 0 1]\n [1 0 0 0 0 0 0 0 0 1]\n [1 0 0 0 0 0 0 0 0 1]\n [1 0 0 0 0 1 0 0 0 1]\n [1 0 0 0 8 1 1 0 1 1]\n [1 1 1 1 8 8 1 1 1 1]\n [1 1 1 1 1 1 1 1 1 1]]\nparents : [] []\nq after update:  [[8, 5], [7, 3]]\nq after update:  [[8, 5], [7, 3], [6, 4]]\nmin, secmin : [8, 5] [8, 5]\nq is : [[8, 5], [7, 3], [6, 4]]\nbackup is: [[8, 5], [7, 4]]\ndiff is:  [[7, 3], [6, 4]]\n[[10000 10000 10000 10000 10000 10000 10000 10000 10000 10000]\n [10000 10000 10000 10000 10000 10000 10000 10000 10000 10000]\n [10000 10000 10000 10000 10000 10000 10000 10000 10000 10000]\n [10000 10000 10000 10000 10000 10000 10000 10000 10000 10000]\n [10000 10000 10000 10000 10000 10000 10000 10000 10000 10000]\n [10000 10000 10000 10000 10000 10000 10000 10000 10000 10000]\n [10000 10000 10000 10000 10000 10000 10000 10000 10000 10000]\n [10000 10000 10000 10000    12 10000 10000 10000 10000 10000]\n [10000 10000 10000 10000     5    10 10000 10000 10000 10000]\n [10000 10000 10000 10000 10000 10000 10000 10000 10000 10000]]\n[[1 1 1 1 1 1 1 1 1 1]\n [1 0 0 1 0 0 0 0 0 1]\n [1 0 0 0 0 0 0 1 0 1]\n [1 0 0 3 0 0 0 0 0 1]\n [1 0 0 0 0 0 0 0 0 1]\n [1 0 0 0 0 0 0 0 0 1]\n [1 0 0 0 0 1 0 0 0 1]\n [1 0 0 0 8 1 1 0 1 1]\n [1 1 1 1 8 8 1 1 1 1]\n [1 1 1 1 1 1 1 1 1 1]]\nparents : [[7, 4]] [9]\nmin, secmin : [7, 4] [8, 5]\n[[10000 10000 10000 10000 10000 10000 10000 10000 10000 10000]\n [10000 10000 10000 10000 10000 10000 10000 10000 10000 10000]\n [10000 10000 10000 10000 10000 10000 10000 10000 10000 10000]\n [10000 10000 10000 10000 10000 10000 10000 10000 10000 10000]\n [10000 10000 10000 10000 10000 10000 10000 10000 10000 10000]\n [10000 10000 10000 10000 10000 10000 10000 10000 10000 10000]\n [10000 10000 10000 10000 10000 10000 10000 10000 10000 10000]\n [10000 10000 10000 10000    12 10000 10000 10000 10000 10000]\n [10000 10000 10000 10000     5    10 10000 10000 10000 10000]\n [10000 10000 10000 10000 10000 10000 10000 10000 10000 10000]]\n[[1 1 1 1 1 1 1 1 1 1]\n [1 0 0 1 0 0 0 0 0 1]\n [1 0 0 0 0 0 0 1 0 1]\n [1 0 0 3 0 0 0 0 0 1]\n [1 0 0 0 0 0 0 0 0 1]\n [1 0 0 0 0 0 0 0 0 1]\n [1 0 0 0 0 1 0 0 0 1]\n [1 0 0 0 8 1 1 0 1 1]\n [1 1 1 1 8 8 1 1 1 1]\n [1 1 1 1 1 1 1 1 1 1]]\nparents : [[7, 4]] [9]\nq after update:  [[7, 3]]\nq after update:  [[7, 3], [6, 4]]\nmin, secmin : [6, 4] [7, 4]\n[[10000 10000 10000 10000 10000 10000 10000 10000 10000 10000]\n [10000 10000 10000 10000 10000 10000 10000 10000 10000 10000]\n [10000 10000 10000 10000 10000 10000 10000 10000 10000 10000]\n [10000 10000 10000 10000 10000 10000 10000 10000 10000 10000]\n [10000 10000 10000 10000 10000 10000 10000 10000 10000 10000]\n [10000 10000 10000 10000 10000 10000 10000 10000 10000 10000]\n [10000 10000 10000 10000    12 10000 10000 10000 10000 10000]\n [10000 10000 10000    13     9 10000 10000 10000 10000 10000]\n [10000 10000 10000 10000     5    10 10000 10000 10000 10000]\n [10000 10000 10000 10000 10000 10000 10000 10000 10000 10000]]\n[[1 1 1 1 1 1 1 1 1 1]\n [1 0 0 1 0 0 0 0 0 1]\n [1 0 0 0 0 0 0 1 0 1]\n [1 0 0 3 0 0 0 0 0 1]\n [1 0 0 0 0 0 0 0 0 1]\n [1 0 0 0 0 0 0 0 0 1]\n [1 0 0 0 8 1 0 0 0 1]\n [1 0 0 8 8 1 1 0 1 1]\n [1 1 1 1 8 8 1 1 1 1]\n [1 1 1 1 1 1 1 1 1 1]]\nparents : [] []\nq after update:  [[7, 3], [6, 3]]\nq after update:  [[7, 3], [6, 3], [5, 4]]\nmin, secmin : [7, 3] [7, 3]\nq is : [[7, 3], [6, 3], [5, 4]]\nbackup is: [[7, 3], [6, 4]]\ndiff is:  [[6, 3], [5, 4]]\n[[10000 10000 10000 10000 10000 10000 10000 10000 10000 10000]\n [10000 10000 10000 10000 10000 10000 10000 10000 10000 10000]\n [10000 10000 10000 10000 10000 10000 10000 10000 10000 10000]\n [10000 10000 10000 10000 10000 10000 10000 10000 10000 10000]\n [10000 10000 10000 10000 10000 10000 10000 10000 10000 10000]\n [10000 10000 10000 10000 10000 10000 10000 10000 10000 10000]\n [10000 10000 10000 10000    14 10000 10000 10000 10000 10000]\n [10000 10000 10000    13     9 10000 10000 10000 10000 10000]\n [10000 10000 10000 10000     5    10 10000 10000 10000 10000]\n [10000 10000 10000 10000 10000 10000 10000 10000 10000 10000]]\n[[1 1 1 1 1 1 1 1 1 1]\n [1 0 0 1 0 0 0 0 0 1]\n [1 0 0 0 0 0 0 1 0 1]\n [1 0 0 3 0 0 0 0 0 1]\n [1 0 0 0 0 0 0 0 0 1]\n [1 0 0 0 0 0 0 0 0 1]\n [1 0 0 0 8 1 0 0 0 1]\n [1 0 0 8 8 1 1 0 1 1]\n [1 1 1 1 8 8 1 1 1 1]\n [1 1 1 1 1 1 1 1 1 1]]\nparents : [[6, 4]] [12]\nq after update:  [[6, 4], [7, 2]]\nq after update:  [[6, 4], [7, 2], [6, 3]]\nmin, secmin : [6, 4] [7, 3]\n[[10000 10000 10000 10000 10000 10000 10000 10000 10000 10000]\n [10000 10000 10000 10000 10000 10000 10000 10000 10000 10000]\n [10000 10000 10000 10000 10000 10000 10000 10000 10000 10000]\n [10000 10000 10000 10000 10000 10000 10000 10000 10000 10000]\n [10000 10000 10000 10000 10000 10000 10000 10000 10000 10000]\n [10000 10000 10000 10000 10000 10000 10000 10000 10000 10000]\n [10000 10000 10000    16    14 10000 10000 10000 10000 10000]\n [10000 10000    17    13     9 10000 10000 10000 10000 10000]\n [10000 10000 10000 10000     5    10 10000 10000 10000 10000]\n [10000 10000 10000 10000 10000 10000 10000 10000 10000 10000]]\n[[1 1 1 1 1 1 1 1 1 1]\n [1 0 0 1 0 0 0 0 0 1]\n [1 0 0 0 0 0 0 1 0 1]\n [1 0 0 3 0 0 0 0 0 1]\n [1 0 0 0 0 0 0 0 0 1]\n [1 0 0 0 0 0 0 0 0 1]\n [1 0 0 8 8 1 0 0 0 1]\n [1 0 8 8 8 1 1 0 1 1]\n [1 1 1 1 8 8 1 1 1 1]\n [1 1 1 1 1 1 1 1 1 1]]\nparents : [[6, 4]] [12]\nq after update:  [[7, 2], [6, 3], [5, 4]]\nmin, secmin : [5, 4] [6, 4]\n[[10000 10000 10000 10000 10000 10000 10000 10000 10000 10000]\n [10000 10000 10000 10000 10000 10000 10000 10000 10000 10000]\n [10000 10000 10000 10000 10000 10000 10000 10000 10000 10000]\n [10000 10000 10000 10000 10000 10000 10000 10000 10000 10000]\n [10000 10000 10000 10000 10000 10000 10000 10000 10000 10000]\n [10000 10000 10000 10000    14 10000 10000 10000 10000 10000]\n [10000 10000 10000    16    12 10000 10000 10000 10000 10000]\n [10000 10000    17    13     9 10000 10000 10000 10000 10000]\n [10000 10000 10000 10000     5    10 10000 10000 10000 10000]\n [10000 10000 10000 10000 10000 10000 10000 10000 10000 10000]]\n[[1 1 1 1 1 1 1 1 1 1]\n [1 0 0 1 0 0 0 0 0 1]\n [1 0 0 0 0 0 0 1 0 1]\n [1 0 0 3 0 0 0 0 0 1]\n [1 0 0 0 0 0 0 0 0 1]\n [1 0 0 0 8 0 0 0 0 1]\n [1 0 0 8 8 1 0 0 0 1]\n [1 0 8 8 8 1 1 0 1 1]\n [1 1 1 1 8 8 1 1 1 1]\n [1 1 1 1 1 1 1 1 1 1]]\nparents : [] []\nq after update:  [[7, 2], [6, 3], [5, 5]]\nq after update:  [[7, 2], [6, 3], [5, 5], [5, 3]]\nq after update:  [[7, 2], [6, 3], [5, 5], [5, 3], [4, 4]]\nmin, secmin : [4, 4] [6, 3]\n[[10000 10000 10000 10000 10000 10000 10000 10000 10000 10000]\n [10000 10000 10000 10000 10000 10000 10000 10000 10000 10000]\n [10000 10000 10000 10000 10000 10000 10000 10000 10000 10000]\n [10000 10000 10000 10000 10000 10000 10000 10000 10000 10000]\n [10000 10000 10000 10000    15 10000 10000 10000 10000 10000]\n [10000 10000 10000    16    14    16 10000 10000 10000 10000]\n [10000 10000 10000    16    12 10000 10000 10000 10000 10000]\n [10000 10000    17    13     9 10000 10000 10000 10000 10000]\n [10000 10000 10000 10000     5    10 10000 10000 10000 10000]\n [10000 10000 10000 10000 10000 10000 10000 10000 10000 10000]]\n[[1 1 1 1 1 1 1 1 1 1]\n [1 0 0 1 0 0 0 0 0 1]\n [1 0 0 0 0 0 0 1 0 1]\n [1 0 0 3 0 0 0 0 0 1]\n [1 0 0 0 8 0 0 0 0 1]\n [1 0 0 8 8 8 0 0 0 1]\n [1 0 0 8 8 1 0 0 0 1]\n [1 0 8 8 8 1 1 0 1 1]\n [1 1 1 1 8 8 1 1 1 1]\n [1 1 1 1 1 1 1 1 1 1]]\nparents : [] []\nq after update:  [[7, 2], [6, 3], [5, 5], [5, 3], [4, 5]]\nq after update:  [[7, 2], [6, 3], [5, 5], [5, 3], [4, 5], [4, 3]]\nq after update:  [[7, 2], [6, 3], [5, 5], [5, 3], [4, 5], [4, 3], [3, 4]]\nmin, secmin : [3, 4] [5, 3]\n[[10000 10000 10000 10000 10000 10000 10000 10000 10000 10000]\n [10000 10000 10000 10000 10000 10000 10000 10000 10000 10000]\n [10000 10000 10000 10000 10000 10000 10000 10000 10000 10000]\n [10000 10000 10000 10000    16 10000 10000 10000 10000 10000]\n [10000 10000 10000    16    15    17 10000 10000 10000 10000]\n [10000 10000 10000    16    14    16 10000 10000 10000 10000]\n [10000 10000 10000    16    12 10000 10000 10000 10000 10000]\n [10000 10000    17    13     9 10000 10000 10000 10000 10000]\n [10000 10000 10000 10000     5    10 10000 10000 10000 10000]\n [10000 10000 10000 10000 10000 10000 10000 10000 10000 10000]]\n[[1 1 1 1 1 1 1 1 1 1]\n [1 0 0 1 0 0 0 0 0 1]\n [1 0 0 0 0 0 0 1 0 1]\n [1 0 0 3 8 0 0 0 0 1]\n [1 0 0 8 8 8 0 0 0 1]\n [1 0 0 8 8 8 0 0 0 1]\n [1 0 0 8 8 1 0 0 0 1]\n [1 0 8 8 8 1 1 0 1 1]\n [1 1 1 1 8 8 1 1 1 1]\n [1 1 1 1 1 1 1 1 1 1]]\nparents : [] []\nq after update:  [[7, 2], [6, 3], [5, 5], [5, 3], [4, 5], [4, 3], [3, 5]]\nmin, secmin : [4, 3] [4, 3]\nq is : [[7, 2], [6, 3], [5, 5], [5, 3], [4, 5], [4, 3], [3, 5]]\nbackup is: [[7, 2], [6, 3], [5, 5], [5, 3], [4, 5], [4, 3], [3, 4]]\ndiff is:  [[3, 5]]\n[[1 1 1 1 1 1 1 1 1 1]\n [1 0 0 1 0 0 0 0 0 1]\n [1 0 0 0 0 0 0 1 0 1]\n [1 0 0 3 8 0 0 0 0 1]\n [1 0 0 8 8 8 0 0 0 1]\n [1 0 0 8 8 8 0 0 0 1]\n [1 0 0 8 8 1 0 0 0 1]\n [1 0 8 8 8 1 1 0 1 1]\n [1 1 1 1 2 8 1 1 1 1]\n [1 1 1 1 1 1 1 1 1 1]]\n[[10000 10000 10000 10000 10000 10000 10000 10000 10000 10000]\n [10000 10000 10000 10000 10000 10000 10000 10000 10000 10000]\n [10000 10000 10000 10000 10000 10000 10000 10000 10000 10000]\n [10000 10000 10000    16    18 10000 10000 10000 10000 10000]\n [10000 10000 10000    16    15    17 10000 10000 10000 10000]\n [10000 10000 10000    16    14    16 10000 10000 10000 10000]\n [10000 10000 10000    16    12 10000 10000 10000 10000 10000]\n [10000 10000    17    13     9 10000 10000 10000 10000 10000]\n [10000 10000 10000 10000     5    10 10000 10000 10000 10000]\n [10000 10000 10000 10000 10000 10000 10000 10000 10000 10000]]\nPath is:  [{8, 4}, {8, 5}, {4, 7}, {3, 7}, {4, 6}, {3, 7}, {4, 6}, {3, 6}, {4, 5}, {2, 7}, {3, 6}, {4, 5}, {5}, {3, 5}, {4}, {4, 5}, {3, 4}, {3, 4}, {3, 5}, {3}]\nNumber of Nodes Visited =  20\n"
     ],
     "output_type": "stream"
    }
   ],
   "source": [
    "rmap = np.full(shape=(height+2,width+2),fill_value=10000)\n",
    "parent = []\n",
    "parentH = []\n",
    "rm = np.copy(map)\n",
    "l = []\n",
    "q = []\n",
    "flag = True\n",
    "\n",
    "def Rminvalue(b):\n",
    "    min = 10001\n",
    "    ind = 0\n",
    "    for i in b:\n",
    "        if rmap[i[0],i[1]] <= min:\n",
    "            min = rmap[i[0],i[1]]\n",
    "            ind = b.index(i)\n",
    "    return ind\n",
    "\n",
    "def secondMinValue(b):\n",
    "    min = 10001\n",
    "    ind = 0\n",
    "    for i in b:\n",
    "        if rmap[i[0],i[1]] <= min:\n",
    "            lind = ind\n",
    "            min = rmap[i[0],i[1]]\n",
    "            ind = b.index(i)\n",
    "    return lind\n",
    "\n",
    "def ldif(first, second):\n",
    "    diflist = []\n",
    "    for i in first:\n",
    "        if i not in second:\n",
    "            diflist.append(i)\n",
    "    return diflist\n",
    "\n",
    "def RBFS_Check(x,y,cost):\n",
    "    global flag\n",
    "    global q\n",
    " \n",
    "    if valid(rm[x][y+1]) and flag:\n",
    "        l.append({x,y+1})\n",
    "        g = cost + h(x,y+1)\n",
    "        rmap[x][y+1] = min(rmap[x][y+1], g)\n",
    "        if isGoal(rm[x][y+1]):\n",
    "            flag = False\n",
    "            return\n",
    "        else:\n",
    "            q.append([x,y+1])\n",
    "            print(\"q after update: \", q)\n",
    "            rm[x][y+1]=8\n",
    "    \n",
    "    if valid(rm[x+1][y]) and flag:\n",
    "        l.append({x+1,y})        \n",
    "        g = cost + h(x+1,y)\n",
    "        rmap[x+1][y] = min(rmap[x+1][y], g)\n",
    "        if isGoal(rm[x+1][y]):\n",
    "            flag = False\n",
    "            return\n",
    "        else:\n",
    "            q.append([x+1,y])\n",
    "            print(\"q after update: \", q)\n",
    "            rm[x+1][y]=8\n",
    "    \n",
    "    if valid(rm[x][y-1]) and flag:\n",
    "        l.append({x,y-1})     \n",
    "        g = cost + h(x,y-1)\n",
    "        rmap[x][y-1] = min(rmap[x][y-1], g)        \n",
    "        if isGoal(rm[x][y-1]):\n",
    "            flag = False\n",
    "            return\n",
    "        else:\n",
    "            q.append([x,y-1])\n",
    "            print(\"q after update: \", q)\n",
    "            rm[x][y-1]=8\n",
    "    \n",
    "    if valid(rm[x-1][y]) and flag:\n",
    "        l.append({x-1,y})     \n",
    "        g = cost + h(x-1,y)\n",
    "        rmap[x-1][y] = min(rmap[x-1][y], g)   \n",
    "        if isGoal(rm[x-1][y]):\n",
    "            flag = False\n",
    "            return\n",
    "        else:\n",
    "            q.append([x-1,y])\n",
    "            print(\"q after update: \", q)\n",
    "            rm[x-1][y]=8\n",
    "    \n",
    "    return\n",
    "\n",
    "def RBFS(x,y):\n",
    "    global q\n",
    "    global flag\n",
    "    q.append([x,y])\n",
    "    l.append({x,y})\n",
    "    rm[x][y] = 8\n",
    "    rmap[x][y] = h(x,y)\n",
    "    t = q.pop(Rminvalue(q))\n",
    "    RBFS_Check(t[0],t[1],rmap[t[0]][t[1]])\n",
    "    secondLeastF = q[secondMinValue(q)]\n",
    "    print(\"min, secmin :\",q[Rminvalue(q)],secondLeastF)\n",
    "    #print(\"q is: \",q)\n",
    "    #print(\"l is: \",l)\n",
    "    print(rmap)\n",
    "    print(rm)\n",
    "    print(\"parents :\", parent, parentH)\n",
    "    while len(q) != 0 and flag:\n",
    "        #print(\"q is: \",q)\n",
    "        #print(\"l is: \",l)\n",
    "        print(rmap)\n",
    "        print(rm)\n",
    "        print(\"parents :\", parent, parentH)\n",
    "        qBackup = q.copy()\n",
    "        t = q.pop(Rminvalue(q))\n",
    "        if t in parent:\n",
    "            ind=parent.index(t)\n",
    "            rmap[t[0]][t[1]]=parentH[ind]\n",
    "            parent.pop(ind)\n",
    "            parentH.pop(ind)\n",
    "        RBFS_Check(t[0],t[1],rmap[t[0]][t[1]])\n",
    "        print(\"min, secmin :\",q[Rminvalue(q)],secondLeastF)\n",
    "        if q[Rminvalue(q)]==secondLeastF:\n",
    "            print(\"q is :\", q)\n",
    "            print(\"backup is:\", qBackup)\n",
    "            diff = ldif(q,qBackup)\n",
    "            print(\"diff is: \",diff)\n",
    "            if len(diff) > 0:\n",
    "                newF=diff[Rminvalue(diff)]\n",
    "                parent.append(t)\n",
    "                parentH.append(rmap[t[0]][t[1]])\n",
    "                rmap[t[0]][t[1]]=rmap[newF[0]][newF[1]]\n",
    "                for j in diff:\n",
    "                    rmap[j[0]][j[1]] = 10000\n",
    "                    rm[j[0]][j[1]] = 0\n",
    "                q = qBackup.copy()\n",
    "        secondLeastF = q[secondMinValue(q)]\n",
    "            \n",
    "            \n",
    "            \n",
    "        \n",
    "RBFS(x_start,y_start)\n",
    "rm[x_start][y_start]=2\n",
    "print(rm)\n",
    "print(rmap)\n",
    "\n",
    "print(\"Path is: \",l)\n",
    "print(\"Number of Nodes Visited = \",len(l))"
   ],
   "metadata": {
    "collapsed": false,
    "pycharm": {
     "name": "#%%\n",
     "is_executing": false
    }
   }
  },
  {
   "cell_type": "code",
   "execution_count": 88,
   "outputs": [
    {
     "name": "stdout",
     "text": [
      "[[2, 6], [1, 5]]\n"
     ],
     "output_type": "stream"
    }
   ],
   "source": [
    "j = [[2, 7], [1, 6]]\n",
    "o = [[2, 7], [2, 6], [1, 5]]\n",
    "print(ldif(o,j))"
   ],
   "metadata": {
    "collapsed": false,
    "pycharm": {
     "name": "#%%\n",
     "is_executing": false
    }
   }
  },
  {
   "cell_type": "code",
   "execution_count": null,
   "outputs": [],
   "source": [
    "\n"
   ],
   "metadata": {
    "collapsed": false,
    "pycharm": {
     "name": "#%%\n"
    }
   }
  }
 ],
 "metadata": {
  "language_info": {
   "codemirror_mode": {
    "name": "ipython",
    "version": 2
   },
   "file_extension": ".py",
   "mimetype": "text/x-python",
   "name": "python",
   "nbconvert_exporter": "python",
   "pygments_lexer": "ipython2",
   "version": "2.7.6"
  },
  "kernelspec": {
   "name": "python3",
   "language": "python",
   "display_name": "Python 3"
  },
  "pycharm": {
   "stem_cell": {
    "cell_type": "raw",
    "source": [],
    "metadata": {
     "collapsed": false
    }
   }
  }
 },
 "nbformat": 4,
 "nbformat_minor": 0
}